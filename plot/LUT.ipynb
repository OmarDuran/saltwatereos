{
 "cells": [
  {
   "cell_type": "code",
   "execution_count": 129,
   "id": "8161523a-0240-4404-a2d9-3da2fbb30dbb",
   "metadata": {},
   "outputs": [],
   "source": [
    "from vtk import *\n",
    "from vtk.util import numpy_support as VN\n",
    "import numpy as np\n",
    "import matplotlib.pyplot as plt\n",
    "import matplotlib as mpl\n",
    "from matplotlib import patches\n",
    "import matplotlib.ticker as ticker\n",
    "from matplotlib.ticker import MultipleLocator\n",
    "mpl.rcParams['font.family'] = 'Arial'  #default font family\n",
    "mpl.rcParams['mathtext.fontset'] = 'cm' #font for math\n",
    "\n",
    "datapath='/Users/zguo/Downloads'\n",
    "lut_vtu='%s/lut_constP_XH_8.vtu'%(datapath)"
   ]
  },
  {
   "cell_type": "code",
   "execution_count": 134,
   "id": "cec6b88a-fc7c-43c1-83fe-2d4abd510295",
   "metadata": {},
   "outputs": [],
   "source": [
    "def extractVTKFile(inputVTKFile):\n",
    "    data={'points':[],'cells':[],'point_data':{},'cell_data':{}}\n",
    "    extension=inputVTKFile.split('.')[-1]\n",
    "    reader,writer=[],[]\n",
    "    if(extension=='vtu'):\n",
    "        reader=vtkXMLUnstructuredGridReader()\n",
    "        writer=vtkXMLUnstructuredGridWriter()\n",
    "    elif(extension=='vtk'):\n",
    "        reader=vtkUnstructuredGridReader()\n",
    "        writer=vtkUnstructuredGridWriter()\n",
    "    else:\n",
    "        ERROR('Unrecognized vtk file type: %s, the supported format is vtu'%(extension))\n",
    "    reader.SetFileName(inputVTKFile)\n",
    "    reader.Update()\n",
    "    grid=reader.GetOutput()\n",
    "    # point fields\n",
    "    num_pointDataField=grid.GetPointData().GetNumberOfArrays()\n",
    "    for i in range(0,num_pointDataField):\n",
    "        fieldName=grid.GetPointData().GetArrayName(i)\n",
    "        data['point_data'][fieldName]=VN.vtk_to_numpy(grid.GetPointData().GetArray(i))\n",
    "    # points \n",
    "    points = grid.GetPoints()\n",
    "    nPoints = points.GetNumberOfPoints()\n",
    "    data['points']=VN.vtk_to_numpy(points.GetData())\n",
    "    # cells\n",
    "    cells = grid.GetCells()\n",
    "    cells = VN.vtk_to_numpy(cells.GetData())\n",
    "    nCells = grid.GetNumberOfCells()\n",
    "    n=0\n",
    "    for i in range(0,nCells):\n",
    "        np=cells[n]\n",
    "        start=n+1\n",
    "        inds=cells[start:start+np]\n",
    "        n = 1+np\n",
    "        data['cells'].append(inds)\n",
    "    return data"
   ]
  },
  {
   "cell_type": "code",
   "execution_count": 156,
   "id": "e0df1131-562c-441b-9b84-b97b5eacc064",
   "metadata": {},
   "outputs": [
    {
     "name": "stdout",
     "output_type": "stream",
     "text": [
      "dict_keys(['Bulk density', 'Bulk specific enthalpy', 'Temperature'])\n",
      "(25433,) [1007.94 1003.71 1001.02 ...    0.      0.      0.  ]\n"
     ]
    }
   ],
   "source": [
    "data = extractVTKFile(lut_vtu)\n",
    "print(data['point_data'].keys())\n",
    "aa=data['point_data']['Bulk density']\n",
    "aa[np.isnan(aa)]=0\n",
    "print(aa.shape,aa)"
   ]
  },
  {
   "cell_type": "code",
   "execution_count": 161,
   "id": "42a9940a",
   "metadata": {},
   "outputs": [
    {
     "data": {
      "image/png": "[encoded data removed]",
      "text/plain": [
       "<Figure size 576x504 with 1 Axes>"
      ]
     },
     "metadata": {
      "needs_background": "light"
     },
     "output_type": "display_data"
    }
   ],
   "source": [
    "# plot\n",
    "fig,axes=plt.subplots(1,1,figsize=(8,7))\n",
    "\n",
    "triang=mpl.tri.Triangulation(data['points'][:,0],data['points'][:,1])\n",
    "ax=axes\n",
    "ax.tricontourf(triang, data['point_data']['Temperature'])\n",
    "\n",
    "plt.show()"
   ]
  },
  {
   "cell_type": "code",
   "execution_count": null,
   "id": "d2e1f58c",
   "metadata": {},
   "outputs": [],
   "source": []
  }
 ],
 "metadata": {
  "kernelspec": {
   "display_name": "Python 3 (ipykernel)",
   "language": "python",
   "name": "python3"
  },
  "language_info": {
   "codemirror_mode": {
    "name": "ipython",
    "version": 3
   },
   "file_extension": ".py",
   "mimetype": "text/x-python",
   "name": "python",
   "nbconvert_exporter": "python",
   "pygments_lexer": "ipython3",
   "version": "3.9.10"
  }
 },
 "nbformat": 4,
 "nbformat_minor": 5
}
