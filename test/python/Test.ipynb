{
 "cells": [
  {
   "cell_type": "markdown",
   "metadata": {},
   "source": [
    "# Install \n",
    "\n",
    "Please select a proper version from [Download Files](https://pypi.org/project/pyswEOS/#files) according to python version (e.g. 2.7, 3.8, 3.9) and operation system (macosx, linux, windows). The download file pattern is `pyswEOS-version-pythonVersion-none-OSVersion.whl`. For example, if your python version is 3.7 (or maybe 3.7.x, 3.7m, ...) and OS is windows 10, please copy the link of :code:`pyswEOS-0.2.6-py3.7-none-win_amd64.whl` and then use pip to install, :code:`pip install https://****.whl`."
   ]
  },
  {
   "cell_type": "markdown",
   "metadata": {},
   "source": [
    "**Check python version**"
   ]
  },
  {
   "cell_type": "code",
   "execution_count": null,
   "metadata": {},
   "outputs": [],
   "source": [
    "!python --version"
   ]
  },
  {
   "cell_type": "markdown",
   "metadata": {},
   "source": [
    "**Check system version**"
   ]
  },
  {
   "cell_type": "code",
   "execution_count": null,
   "metadata": {},
   "outputs": [],
   "source": [
    "!uname -a"
   ]
  },
  {
   "cell_type": "markdown",
   "metadata": {},
   "source": [
    "**Install latest version of pyswEOS**\n",
    "\n",
    "Maybe need to replace the link after `pip install` by the latest version."
   ]
  },
  {
   "cell_type": "code",
   "execution_count": null,
   "metadata": {},
   "outputs": [],
   "source": [
    "#install\n",
    "!pip install https://files.pythonhosted.org/packages/a2/8e/e29dbbb95058b8fef7f10b388c4fbc07afd72fc5f4ec45f11dec81999140/pyswEOS-0.2.5-py3.7-none-manylinux2010_x86_64.whl"
   ]
  },
  {
   "cell_type": "markdown",
   "metadata": {},
   "source": [
    "## Demo"
   ]
  },
  {
   "cell_type": "code",
   "execution_count": null,
   "metadata": {},
   "outputs": [],
   "source": [
    "import pyswEOS\n",
    "print(pyswEOS.__version__)\n",
    "\n",
    "from pyswEOS import H2ONaCl\n",
    "from pyswEOS import H2O\n",
    "water=H2O.cH2O()\n",
    "sw=H2ONaCl.cH2ONaCl()\n",
    "# 1. function\n",
    "print(sw.Rho_brine(300, 200, 0.2))\n",
    "print(sw.P_VaporLiquidHaliteCoexist(200))"
   ]
  },
  {
   "cell_type": "code",
   "execution_count": null,
   "metadata": {},
   "outputs": [],
   "source": []
  }
 ],
 "metadata": {
  "kernelspec": {
   "display_name": "Python 3",
   "language": "python",
   "name": "python3"
  },
  "language_info": {
   "codemirror_mode": {
    "name": "ipython",
    "version": 3
   },
   "file_extension": ".py",
   "mimetype": "text/x-python",
   "name": "python",
   "nbconvert_exporter": "python",
   "pygments_lexer": "ipython3",
   "version": "3.7.4"
  }
 },
 "nbformat": 4,
 "nbformat_minor": 4
}
