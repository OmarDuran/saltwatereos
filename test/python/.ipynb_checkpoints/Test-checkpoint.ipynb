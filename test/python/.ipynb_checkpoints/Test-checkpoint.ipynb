{
 "cells": [
  {
   "cell_type": "markdown",
   "metadata": {},
   "source": [
    "# Test"
   ]
  },
  {
   "cell_type": "code",
   "execution_count": 2,
   "metadata": {},
   "outputs": [],
   "source": [
    "import pyswEOS\n",
    "print(pyswEOS.__version__)\n",
    "\n",
    "from pyswEOS import H2ONaCl\n",
    "from pyswEOS import H2O\n",
    "water=H2O.cH2O()\n",
    "sw=H2ONaCl.cH2ONaCl()\n",
    "# 1. function\n",
    "print(sw.Rho_brine(300, 200, 0.2))\n",
    "print(sw.P_VaporLiquidHaliteCoexist(200))"
   ]
  },
  {
   "cell_type": "code",
   "execution_count": null,
   "metadata": {},
   "outputs": [],
   "source": []
  }
 ],
 "metadata": {
  "kernelspec": {
   "display_name": "Python 3",
   "language": "python",
   "name": "python3"
  },
  "language_info": {
   "codemirror_mode": {
    "name": "ipython",
    "version": 3
   },
   "file_extension": ".py",
   "mimetype": "text/x-python",
   "name": "python",
   "nbconvert_exporter": "python",
   "pygments_lexer": "ipython3",
   "version": "3.7.4"
  }
 },
 "nbformat": 4,
 "nbformat_minor": 4
}
